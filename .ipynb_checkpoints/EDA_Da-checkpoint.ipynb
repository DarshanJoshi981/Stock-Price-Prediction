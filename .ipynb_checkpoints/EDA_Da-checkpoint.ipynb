{
 "cells": [
  {
   "cell_type": "code",
   "execution_count": 1,
   "id": "9e682721",
   "metadata": {},
   "outputs": [],
   "source": [
    "import pandas as pd\n",
    "import matplotlib.pyplot as plt\n",
    "import seaborn as sns"
   ]
  },
  {
   "cell_type": "code",
   "execution_count": 4,
   "id": "ac9c6ece",
   "metadata": {},
   "outputs": [
    {
     "data": {
      "text/html": [
       "<div>\n",
       "<style scoped>\n",
       "    .dataframe tbody tr th:only-of-type {\n",
       "        vertical-align: middle;\n",
       "    }\n",
       "\n",
       "    .dataframe tbody tr th {\n",
       "        vertical-align: top;\n",
       "    }\n",
       "\n",
       "    .dataframe thead th {\n",
       "        text-align: right;\n",
       "    }\n",
       "</style>\n",
       "<table border=\"1\" class=\"dataframe\">\n",
       "  <thead>\n",
       "    <tr style=\"text-align: right;\">\n",
       "      <th></th>\n",
       "      <th>Date</th>\n",
       "      <th>High</th>\n",
       "      <th>Low</th>\n",
       "      <th>Open</th>\n",
       "      <th>Close</th>\n",
       "      <th>Volume</th>\n",
       "      <th>Adj Close</th>\n",
       "      <th>Company Name</th>\n",
       "    </tr>\n",
       "  </thead>\n",
       "  <tbody>\n",
       "    <tr>\n",
       "      <th>0</th>\n",
       "      <td>2010-01-04</td>\n",
       "      <td>6215.000000</td>\n",
       "      <td>6032.0</td>\n",
       "      <td>6081.000000</td>\n",
       "      <td>6142.950195</td>\n",
       "      <td>18735.0</td>\n",
       "      <td>5979.571777</td>\n",
       "      <td>MRF</td>\n",
       "    </tr>\n",
       "    <tr>\n",
       "      <th>1</th>\n",
       "      <td>2010-01-05</td>\n",
       "      <td>6269.000000</td>\n",
       "      <td>6150.0</td>\n",
       "      <td>6200.000000</td>\n",
       "      <td>6160.600098</td>\n",
       "      <td>17947.0</td>\n",
       "      <td>5996.752441</td>\n",
       "      <td>MRF</td>\n",
       "    </tr>\n",
       "    <tr>\n",
       "      <th>2</th>\n",
       "      <td>2010-01-06</td>\n",
       "      <td>6198.000000</td>\n",
       "      <td>6055.0</td>\n",
       "      <td>6180.000000</td>\n",
       "      <td>6090.399902</td>\n",
       "      <td>10735.0</td>\n",
       "      <td>5928.420898</td>\n",
       "      <td>MRF</td>\n",
       "    </tr>\n",
       "    <tr>\n",
       "      <th>3</th>\n",
       "      <td>2010-01-07</td>\n",
       "      <td>6371.000000</td>\n",
       "      <td>6151.0</td>\n",
       "      <td>6249.899902</td>\n",
       "      <td>6216.200195</td>\n",
       "      <td>42206.0</td>\n",
       "      <td>6050.873535</td>\n",
       "      <td>MRF</td>\n",
       "    </tr>\n",
       "    <tr>\n",
       "      <th>4</th>\n",
       "      <td>2010-01-08</td>\n",
       "      <td>6294.399902</td>\n",
       "      <td>6150.0</td>\n",
       "      <td>6243.299805</td>\n",
       "      <td>6166.850098</td>\n",
       "      <td>11155.0</td>\n",
       "      <td>6002.837891</td>\n",
       "      <td>MRF</td>\n",
       "    </tr>\n",
       "  </tbody>\n",
       "</table>\n",
       "</div>"
      ],
      "text/plain": [
       "         Date         High     Low         Open        Close   Volume  \\\n",
       "0  2010-01-04  6215.000000  6032.0  6081.000000  6142.950195  18735.0   \n",
       "1  2010-01-05  6269.000000  6150.0  6200.000000  6160.600098  17947.0   \n",
       "2  2010-01-06  6198.000000  6055.0  6180.000000  6090.399902  10735.0   \n",
       "3  2010-01-07  6371.000000  6151.0  6249.899902  6216.200195  42206.0   \n",
       "4  2010-01-08  6294.399902  6150.0  6243.299805  6166.850098  11155.0   \n",
       "\n",
       "     Adj Close Company Name  \n",
       "0  5979.571777          MRF  \n",
       "1  5996.752441          MRF  \n",
       "2  5928.420898          MRF  \n",
       "3  6050.873535          MRF  \n",
       "4  6002.837891          MRF  "
      ]
     },
     "execution_count": 4,
     "metadata": {},
     "output_type": "execute_result"
    }
   ],
   "source": [
    "data = pd.read_csv('dataset/stock_data.csv')\n",
    "data.head()"
   ]
  },
  {
   "cell_type": "code",
   "execution_count": 5,
   "id": "f51ccf46",
   "metadata": {},
   "outputs": [
    {
     "data": {
      "text/plain": [
       "(12315, 8)"
      ]
     },
     "execution_count": 5,
     "metadata": {},
     "output_type": "execute_result"
    }
   ],
   "source": [
    "data.shape"
   ]
  },
  {
   "cell_type": "code",
   "execution_count": 6,
   "id": "19d9c0f2",
   "metadata": {},
   "outputs": [
    {
     "data": {
      "text/plain": [
       "Index(['Date', 'High', 'Low', 'Open', 'Close', 'Volume', 'Adj Close',\n",
       "       'Company Name'],\n",
       "      dtype='object')"
      ]
     },
     "execution_count": 6,
     "metadata": {},
     "output_type": "execute_result"
    }
   ],
   "source": [
    "data.columns"
   ]
  },
  {
   "cell_type": "code",
   "execution_count": 7,
   "id": "6f74b071",
   "metadata": {},
   "outputs": [
    {
     "name": "stdout",
     "output_type": "stream",
     "text": [
      "<class 'pandas.core.frame.DataFrame'>\n",
      "RangeIndex: 12315 entries, 0 to 12314\n",
      "Data columns (total 8 columns):\n",
      " #   Column        Non-Null Count  Dtype  \n",
      "---  ------        --------------  -----  \n",
      " 0   Date          12315 non-null  object \n",
      " 1   High          12315 non-null  float64\n",
      " 2   Low           12315 non-null  float64\n",
      " 3   Open          12315 non-null  float64\n",
      " 4   Close         12315 non-null  float64\n",
      " 5   Volume        12315 non-null  float64\n",
      " 6   Adj Close     12315 non-null  float64\n",
      " 7   Company Name  12315 non-null  object \n",
      "dtypes: float64(6), object(2)\n",
      "memory usage: 769.8+ KB\n"
     ]
    }
   ],
   "source": [
    "data.info()"
   ]
  },
  {
   "cell_type": "code",
   "execution_count": 8,
   "id": "498fbbbb",
   "metadata": {},
   "outputs": [
    {
     "data": {
      "text/html": [
       "<div>\n",
       "<style scoped>\n",
       "    .dataframe tbody tr th:only-of-type {\n",
       "        vertical-align: middle;\n",
       "    }\n",
       "\n",
       "    .dataframe tbody tr th {\n",
       "        vertical-align: top;\n",
       "    }\n",
       "\n",
       "    .dataframe thead th {\n",
       "        text-align: right;\n",
       "    }\n",
       "</style>\n",
       "<table border=\"1\" class=\"dataframe\">\n",
       "  <thead>\n",
       "    <tr style=\"text-align: right;\">\n",
       "      <th></th>\n",
       "      <th>count</th>\n",
       "      <th>mean</th>\n",
       "      <th>std</th>\n",
       "      <th>min</th>\n",
       "      <th>25%</th>\n",
       "      <th>50%</th>\n",
       "      <th>75%</th>\n",
       "      <th>max</th>\n",
       "    </tr>\n",
       "  </thead>\n",
       "  <tbody>\n",
       "    <tr>\n",
       "      <th>High</th>\n",
       "      <td>12315.0</td>\n",
       "      <td>7.212804e+03</td>\n",
       "      <td>1.715475e+04</td>\n",
       "      <td>111.650002</td>\n",
       "      <td>366.500000</td>\n",
       "      <td>5.185000e+02</td>\n",
       "      <td>1.062500e+03</td>\n",
       "      <td>8.142595e+04</td>\n",
       "    </tr>\n",
       "    <tr>\n",
       "      <th>Low</th>\n",
       "      <td>12315.0</td>\n",
       "      <td>7.040430e+03</td>\n",
       "      <td>1.676878e+04</td>\n",
       "      <td>106.000000</td>\n",
       "      <td>356.858627</td>\n",
       "      <td>5.067000e+02</td>\n",
       "      <td>1.045184e+03</td>\n",
       "      <td>7.972000e+04</td>\n",
       "    </tr>\n",
       "    <tr>\n",
       "      <th>Open</th>\n",
       "      <td>12315.0</td>\n",
       "      <td>7.128429e+03</td>\n",
       "      <td>1.696897e+04</td>\n",
       "      <td>109.500000</td>\n",
       "      <td>361.560272</td>\n",
       "      <td>5.127150e+02</td>\n",
       "      <td>1.054092e+03</td>\n",
       "      <td>8.099800e+04</td>\n",
       "    </tr>\n",
       "    <tr>\n",
       "      <th>Close</th>\n",
       "      <td>12315.0</td>\n",
       "      <td>7.120514e+03</td>\n",
       "      <td>1.694757e+04</td>\n",
       "      <td>107.650002</td>\n",
       "      <td>361.527435</td>\n",
       "      <td>5.126655e+02</td>\n",
       "      <td>1.053988e+03</td>\n",
       "      <td>8.086045e+04</td>\n",
       "    </tr>\n",
       "    <tr>\n",
       "      <th>Volume</th>\n",
       "      <td>12315.0</td>\n",
       "      <td>3.520919e+06</td>\n",
       "      <td>4.860215e+06</td>\n",
       "      <td>0.000000</td>\n",
       "      <td>507670.500000</td>\n",
       "      <td>2.324180e+06</td>\n",
       "      <td>5.235464e+06</td>\n",
       "      <td>2.213713e+08</td>\n",
       "    </tr>\n",
       "    <tr>\n",
       "      <th>Adj Close</th>\n",
       "      <td>12315.0</td>\n",
       "      <td>7.046104e+03</td>\n",
       "      <td>1.683373e+04</td>\n",
       "      <td>107.650002</td>\n",
       "      <td>339.461746</td>\n",
       "      <td>4.906599e+02</td>\n",
       "      <td>1.029980e+03</td>\n",
       "      <td>8.031909e+04</td>\n",
       "    </tr>\n",
       "  </tbody>\n",
       "</table>\n",
       "</div>"
      ],
      "text/plain": [
       "             count          mean           std         min            25%  \\\n",
       "High       12315.0  7.212804e+03  1.715475e+04  111.650002     366.500000   \n",
       "Low        12315.0  7.040430e+03  1.676878e+04  106.000000     356.858627   \n",
       "Open       12315.0  7.128429e+03  1.696897e+04  109.500000     361.560272   \n",
       "Close      12315.0  7.120514e+03  1.694757e+04  107.650002     361.527435   \n",
       "Volume     12315.0  3.520919e+06  4.860215e+06    0.000000  507670.500000   \n",
       "Adj Close  12315.0  7.046104e+03  1.683373e+04  107.650002     339.461746   \n",
       "\n",
       "                    50%           75%           max  \n",
       "High       5.185000e+02  1.062500e+03  8.142595e+04  \n",
       "Low        5.067000e+02  1.045184e+03  7.972000e+04  \n",
       "Open       5.127150e+02  1.054092e+03  8.099800e+04  \n",
       "Close      5.126655e+02  1.053988e+03  8.086045e+04  \n",
       "Volume     2.324180e+06  5.235464e+06  2.213713e+08  \n",
       "Adj Close  4.906599e+02  1.029980e+03  8.031909e+04  "
      ]
     },
     "execution_count": 8,
     "metadata": {},
     "output_type": "execute_result"
    }
   ],
   "source": [
    "data.describe().T"
   ]
  },
  {
   "cell_type": "code",
   "execution_count": 9,
   "id": "dcad74e9",
   "metadata": {},
   "outputs": [
    {
     "data": {
      "text/plain": [
       "Date            0\n",
       "High            0\n",
       "Low             0\n",
       "Open            0\n",
       "Close           0\n",
       "Volume          0\n",
       "Adj Close       0\n",
       "Company Name    0\n",
       "dtype: int64"
      ]
     },
     "execution_count": 9,
     "metadata": {},
     "output_type": "execute_result"
    }
   ],
   "source": [
    "data.isnull().sum()"
   ]
  },
  {
   "cell_type": "code",
   "execution_count": 10,
   "id": "b81ae0c9",
   "metadata": {},
   "outputs": [
    {
     "data": {
      "text/plain": [
       "MRF           2463\n",
       "M&M           2463\n",
       "TATAMOTORS    2463\n",
       "HDFCBANK      2463\n",
       "RELIANCE      2463\n",
       "Name: Company Name, dtype: int64"
      ]
     },
     "execution_count": 10,
     "metadata": {},
     "output_type": "execute_result"
    }
   ],
   "source": [
    "data['Company Name'].value_counts()\n"
   ]
  },
  {
   "cell_type": "code",
   "execution_count": 11,
   "id": "547a3a74",
   "metadata": {},
   "outputs": [
    {
     "data": {
      "text/plain": [
       "<AxesSubplot:>"
      ]
     },
     "execution_count": 11,
     "metadata": {},
     "output_type": "execute_result"
    },
    {
     "data": {
      "image/png": "[encoded data removed]",
      "text/plain": [
       "<Figure size 504x360 with 2 Axes>"
      ]
     },
     "metadata": {
      "needs_background": "light"
     },
     "output_type": "display_data"
    }
   ],
   "source": [
    "plt.figure(figsize=(7,5))\n",
    "sns.heatmap(data.corr(),cmap='YlGnBu',annot=True)"
   ]
  },
  {
   "cell_type": "code",
   "execution_count": 12,
   "id": "2c5d96b9",
   "metadata": {},
   "outputs": [
    {
     "data": {
      "text/html": [
       "<div>\n",
       "<style scoped>\n",
       "    .dataframe tbody tr th:only-of-type {\n",
       "        vertical-align: middle;\n",
       "    }\n",
       "\n",
       "    .dataframe tbody tr th {\n",
       "        vertical-align: top;\n",
       "    }\n",
       "\n",
       "    .dataframe thead th {\n",
       "        text-align: right;\n",
       "    }\n",
       "</style>\n",
       "<table border=\"1\" class=\"dataframe\">\n",
       "  <thead>\n",
       "    <tr style=\"text-align: right;\">\n",
       "      <th></th>\n",
       "      <th>Date</th>\n",
       "      <th>High</th>\n",
       "      <th>Low</th>\n",
       "      <th>Open</th>\n",
       "      <th>Close</th>\n",
       "      <th>Volume</th>\n",
       "      <th>Adj Close</th>\n",
       "      <th>Company Name</th>\n",
       "      <th>open-high</th>\n",
       "      <th>open-low</th>\n",
       "      <th>close-high</th>\n",
       "      <th>close-low</th>\n",
       "      <th>high-low</th>\n",
       "      <th>open-close</th>\n",
       "    </tr>\n",
       "  </thead>\n",
       "  <tbody>\n",
       "    <tr>\n",
       "      <th>0</th>\n",
       "      <td>2010-01-04</td>\n",
       "      <td>6215.000000</td>\n",
       "      <td>6032.0</td>\n",
       "      <td>6081.000000</td>\n",
       "      <td>6142.950195</td>\n",
       "      <td>18735.0</td>\n",
       "      <td>5979.571777</td>\n",
       "      <td>MRF</td>\n",
       "      <td>-134.000000</td>\n",
       "      <td>49.000000</td>\n",
       "      <td>-72.049805</td>\n",
       "      <td>110.950195</td>\n",
       "      <td>183.000000</td>\n",
       "      <td>-61.950195</td>\n",
       "    </tr>\n",
       "    <tr>\n",
       "      <th>1</th>\n",
       "      <td>2010-01-05</td>\n",
       "      <td>6269.000000</td>\n",
       "      <td>6150.0</td>\n",
       "      <td>6200.000000</td>\n",
       "      <td>6160.600098</td>\n",
       "      <td>17947.0</td>\n",
       "      <td>5996.752441</td>\n",
       "      <td>MRF</td>\n",
       "      <td>-69.000000</td>\n",
       "      <td>50.000000</td>\n",
       "      <td>-108.399902</td>\n",
       "      <td>10.600098</td>\n",
       "      <td>119.000000</td>\n",
       "      <td>39.399902</td>\n",
       "    </tr>\n",
       "    <tr>\n",
       "      <th>2</th>\n",
       "      <td>2010-01-06</td>\n",
       "      <td>6198.000000</td>\n",
       "      <td>6055.0</td>\n",
       "      <td>6180.000000</td>\n",
       "      <td>6090.399902</td>\n",
       "      <td>10735.0</td>\n",
       "      <td>5928.420898</td>\n",
       "      <td>MRF</td>\n",
       "      <td>-18.000000</td>\n",
       "      <td>125.000000</td>\n",
       "      <td>-107.600098</td>\n",
       "      <td>35.399902</td>\n",
       "      <td>143.000000</td>\n",
       "      <td>89.600098</td>\n",
       "    </tr>\n",
       "    <tr>\n",
       "      <th>3</th>\n",
       "      <td>2010-01-07</td>\n",
       "      <td>6371.000000</td>\n",
       "      <td>6151.0</td>\n",
       "      <td>6249.899902</td>\n",
       "      <td>6216.200195</td>\n",
       "      <td>42206.0</td>\n",
       "      <td>6050.873535</td>\n",
       "      <td>MRF</td>\n",
       "      <td>-121.100098</td>\n",
       "      <td>98.899902</td>\n",
       "      <td>-154.799805</td>\n",
       "      <td>65.200195</td>\n",
       "      <td>220.000000</td>\n",
       "      <td>33.699707</td>\n",
       "    </tr>\n",
       "    <tr>\n",
       "      <th>4</th>\n",
       "      <td>2010-01-08</td>\n",
       "      <td>6294.399902</td>\n",
       "      <td>6150.0</td>\n",
       "      <td>6243.299805</td>\n",
       "      <td>6166.850098</td>\n",
       "      <td>11155.0</td>\n",
       "      <td>6002.837891</td>\n",
       "      <td>MRF</td>\n",
       "      <td>-51.100098</td>\n",
       "      <td>93.299805</td>\n",
       "      <td>-127.549805</td>\n",
       "      <td>16.850098</td>\n",
       "      <td>144.399902</td>\n",
       "      <td>76.449707</td>\n",
       "    </tr>\n",
       "  </tbody>\n",
       "</table>\n",
       "</div>"
      ],
      "text/plain": [
       "         Date         High     Low         Open        Close   Volume  \\\n",
       "0  2010-01-04  6215.000000  6032.0  6081.000000  6142.950195  18735.0   \n",
       "1  2010-01-05  6269.000000  6150.0  6200.000000  6160.600098  17947.0   \n",
       "2  2010-01-06  6198.000000  6055.0  6180.000000  6090.399902  10735.0   \n",
       "3  2010-01-07  6371.000000  6151.0  6249.899902  6216.200195  42206.0   \n",
       "4  2010-01-08  6294.399902  6150.0  6243.299805  6166.850098  11155.0   \n",
       "\n",
       "     Adj Close Company Name   open-high    open-low  close-high   close-low  \\\n",
       "0  5979.571777          MRF -134.000000   49.000000  -72.049805  110.950195   \n",
       "1  5996.752441          MRF  -69.000000   50.000000 -108.399902   10.600098   \n",
       "2  5928.420898          MRF  -18.000000  125.000000 -107.600098   35.399902   \n",
       "3  6050.873535          MRF -121.100098   98.899902 -154.799805   65.200195   \n",
       "4  6002.837891          MRF  -51.100098   93.299805 -127.549805   16.850098   \n",
       "\n",
       "     high-low  open-close  \n",
       "0  183.000000  -61.950195  \n",
       "1  119.000000   39.399902  \n",
       "2  143.000000   89.600098  \n",
       "3  220.000000   33.699707  \n",
       "4  144.399902   76.449707  "
      ]
     },
     "execution_count": 12,
     "metadata": {},
     "output_type": "execute_result"
    }
   ],
   "source": [
    "data1 = data.copy()\n",
    "data1['open-high'] = data1['Open']-data1['High']\n",
    "data1['open-low'] = data1['Open'] - data1['Low']\n",
    "data1['close-high'] = data1['Close']-data1['High']\n",
    "data1['close-low'] = data1['Close'] - data1['Low']\n",
    "data1['high-low'] = data1['High'] - data1['Low']\n",
    "data1['open-close'] = data1['Open'] - data1['Close']\n",
    "data1.head()"
   ]
  },
  {
   "cell_type": "code",
   "execution_count": 13,
   "id": "2f835dda",
   "metadata": {},
   "outputs": [
    {
     "data": {
      "text/plain": [
       "<AxesSubplot:>"
      ]
     },
     "execution_count": 13,
     "metadata": {},
     "output_type": "execute_result"
    },
    {
     "data": {
      "image/png": "[encoded data removed]",
      "text/plain": [
       "<Figure size 504x360 with 2 Axes>"
      ]
     },
     "metadata": {
      "needs_background": "light"
     },
     "output_type": "display_data"
    }
   ],
   "source": [
    "data2 = data1.copy()\n",
    "data2 = data2.drop(['Open','High','Low','Close', 'Adj Close'],axis=1)\n",
    "plt.figure(figsize=(7,5))\n",
    "sns.heatmap(data2.corr(),cmap='Blues',annot=True)"
   ]
  },
  {
   "cell_type": "code",
   "execution_count": 14,
   "id": "83c4ac78",
   "metadata": {},
   "outputs": [
    {
     "data": {
      "text/html": [
       "<div>\n",
       "<style scoped>\n",
       "    .dataframe tbody tr th:only-of-type {\n",
       "        vertical-align: middle;\n",
       "    }\n",
       "\n",
       "    .dataframe tbody tr th {\n",
       "        vertical-align: top;\n",
       "    }\n",
       "\n",
       "    .dataframe thead th {\n",
       "        text-align: right;\n",
       "    }\n",
       "</style>\n",
       "<table border=\"1\" class=\"dataframe\">\n",
       "  <thead>\n",
       "    <tr style=\"text-align: right;\">\n",
       "      <th></th>\n",
       "      <th>Date</th>\n",
       "      <th>High</th>\n",
       "      <th>Low</th>\n",
       "      <th>Open</th>\n",
       "      <th>Close</th>\n",
       "      <th>Volume</th>\n",
       "      <th>Adj Close</th>\n",
       "    </tr>\n",
       "    <tr>\n",
       "      <th>Company Name</th>\n",
       "      <th></th>\n",
       "      <th></th>\n",
       "      <th></th>\n",
       "      <th></th>\n",
       "      <th></th>\n",
       "      <th></th>\n",
       "      <th></th>\n",
       "    </tr>\n",
       "  </thead>\n",
       "  <tbody>\n",
       "    <tr>\n",
       "      <th>HDFCBANK</th>\n",
       "      <td>2010-01-04</td>\n",
       "      <td>172.850006</td>\n",
       "      <td>169.255005</td>\n",
       "      <td>170.000000</td>\n",
       "      <td>170.570007</td>\n",
       "      <td>3050490.0</td>\n",
       "      <td>155.755493</td>\n",
       "    </tr>\n",
       "    <tr>\n",
       "      <th>M&amp;M</th>\n",
       "      <td>2010-01-04</td>\n",
       "      <td>284.500000</td>\n",
       "      <td>271.375000</td>\n",
       "      <td>271.375000</td>\n",
       "      <td>282.462494</td>\n",
       "      <td>3739348.0</td>\n",
       "      <td>256.731750</td>\n",
       "    </tr>\n",
       "    <tr>\n",
       "      <th>MRF</th>\n",
       "      <td>2010-01-04</td>\n",
       "      <td>6215.000000</td>\n",
       "      <td>6032.000000</td>\n",
       "      <td>6081.000000</td>\n",
       "      <td>6142.950195</td>\n",
       "      <td>18735.0</td>\n",
       "      <td>5979.571777</td>\n",
       "    </tr>\n",
       "    <tr>\n",
       "      <th>RELIANCE</th>\n",
       "      <td>2010-01-04</td>\n",
       "      <td>540.427307</td>\n",
       "      <td>506.127411</td>\n",
       "      <td>540.427307</td>\n",
       "      <td>532.700500</td>\n",
       "      <td>35372156.0</td>\n",
       "      <td>484.266113</td>\n",
       "    </tr>\n",
       "    <tr>\n",
       "      <th>TATAMOTORS</th>\n",
       "      <td>2010-01-04</td>\n",
       "      <td>164.292068</td>\n",
       "      <td>155.931534</td>\n",
       "      <td>156.525177</td>\n",
       "      <td>163.728104</td>\n",
       "      <td>6715949.0</td>\n",
       "      <td>153.321991</td>\n",
       "    </tr>\n",
       "  </tbody>\n",
       "</table>\n",
       "</div>"
      ],
      "text/plain": [
       "                    Date         High          Low         Open        Close  \\\n",
       "Company Name                                                                   \n",
       "HDFCBANK      2010-01-04   172.850006   169.255005   170.000000   170.570007   \n",
       "M&M           2010-01-04   284.500000   271.375000   271.375000   282.462494   \n",
       "MRF           2010-01-04  6215.000000  6032.000000  6081.000000  6142.950195   \n",
       "RELIANCE      2010-01-04   540.427307   506.127411   540.427307   532.700500   \n",
       "TATAMOTORS    2010-01-04   164.292068   155.931534   156.525177   163.728104   \n",
       "\n",
       "                  Volume    Adj Close  \n",
       "Company Name                           \n",
       "HDFCBANK       3050490.0   155.755493  \n",
       "M&M            3739348.0   256.731750  \n",
       "MRF              18735.0  5979.571777  \n",
       "RELIANCE      35372156.0   484.266113  \n",
       "TATAMOTORS     6715949.0   153.321991  "
      ]
     },
     "execution_count": 14,
     "metadata": {},
     "output_type": "execute_result"
    }
   ],
   "source": [
    "data3 = data.copy()\n",
    "data3.groupby('Company Name').first()"
   ]
  },
  {
   "cell_type": "code",
   "execution_count": null,
   "id": "efe3f502",
   "metadata": {},
   "outputs": [],
   "source": [
    "sns.lineplot(data=data,x='Date',y='Close',hue='Company Name')"
   ]
  },
  {
   "cell_type": "code",
   "execution_count": null,
   "id": "ca46608b",
   "metadata": {},
   "outputs": [],
   "source": [
    "data.plot(subplots=True,figsize=(15,15))\n",
    "plt.show()"
   ]
  },
  {
   "cell_type": "code",
   "execution_count": null,
   "id": "cbb6408e",
   "metadata": {},
   "outputs": [],
   "source": [
    "import datetime\n",
    "data4 = data.copy()\n",
    "data4.drop('Company Name',axis=1,inplace=True)"
   ]
  },
  {
   "cell_type": "code",
   "execution_count": null,
   "id": "fca7e873",
   "metadata": {},
   "outputs": [],
   "source": [
    "data4['Date'] = pd.to_datetime(data4['Date'])\n",
    "data4 = data4.set_index('Date',drop=True)"
   ]
  },
  {
   "cell_type": "markdown",
   "id": "afc338f6",
   "metadata": {},
   "source": [
    "### For the entire year which was the min,max closing price"
   ]
  },
  {
   "cell_type": "code",
   "execution_count": null,
   "id": "def4c2d3",
   "metadata": {},
   "outputs": [],
   "source": [
    "print(data4.resample(rule='A').min()['Close'])"
   ]
  },
  {
   "cell_type": "code",
   "execution_count": null,
   "id": "52b39bc6",
   "metadata": {},
   "outputs": [],
   "source": [
    "sns.lineplot(data=data4.resample(rule='A').min()['Close'])"
   ]
  },
  {
   "cell_type": "code",
   "execution_count": null,
   "id": "a751f42e",
   "metadata": {},
   "outputs": [],
   "source": [
    "sns.lineplot(data=data4.resample(rule='A').max()['Close'])"
   ]
  },
  {
   "cell_type": "code",
   "execution_count": null,
   "id": "8cc5ec84",
   "metadata": {},
   "outputs": [],
   "source": [
    "data3"
   ]
  },
  {
   "cell_type": "code",
   "execution_count": null,
   "id": "983d4931",
   "metadata": {},
   "outputs": [],
   "source": [
    "data4 = data.copy()\n",
    "data4.drop('Volume',axis=1,inplace=True)\n",
    "plt.figure(figsize=(20,10))\n",
    "sns.lineplot(data=data, linewidth=1)\n",
    "plt.title('Overall Stocks')\n",
    "plt.show()"
   ]
  },
  {
   "cell_type": "code",
   "execution_count": null,
   "id": "3f9bfeae",
   "metadata": {},
   "outputs": [],
   "source": [
    "data"
   ]
  },
  {
   "cell_type": "code",
   "execution_count": null,
   "id": "90eadcdd",
   "metadata": {},
   "outputs": [],
   "source": [
    "import plotly.graph_objects as go\n",
    "import plotly.offline as py\n",
    "import numpy as np\n",
    "\n",
    "lst=[]\n",
    "company = ['MRF','RELIANCE','M&M','TATAMOTORS','HDFCBANK']\n",
    "# for x in company:\n",
    "for var in np.random.choice(data3['Company Name'].unique(), 2):\n",
    "    new_df = data3[(data3['Company Name'] == var)]\n",
    "\n",
    "    lst.append(go.Scatter(\n",
    "        x = new_df['Date'].values,\n",
    "        y = new_df['Close'].values,\n",
    "        name = var\n",
    "    ))\n",
    "layout = go.Layout(dict(title = \"Closing prices of 5 companies\",\n",
    "                  xaxis = dict(title = 'Month'),\n",
    "                  yaxis = dict(title = 'Price'),\n",
    "                  ),legend=dict(\n",
    "                orientation=\"h\"))\n",
    "py.iplot(dict(data=lst, layout=layout), filename='basic-line')"
   ]
  },
  {
   "cell_type": "code",
   "execution_count": null,
   "id": "4fdc5c45",
   "metadata": {},
   "outputs": [],
   "source": [
    "import plotly.graph_objects as go\n",
    "import plotly.offline as py\n",
    "import numpy as np\n",
    "\n",
    "lst1=[]\n",
    "company = ['MRF','RELIANCE','M&M','TATAMOTORS','HDFCBANK']\n",
    "# for x in company:\n",
    "for var in np.random.choice(data3['Company Name'].unique(),2):\n",
    "    new_df = data3[(data3['Company Name'] == var)]\n",
    "\n",
    "    lst1.append(go.Scatter(\n",
    "        x = new_df['Date'].values,\n",
    "        y = new_df['Open'].values,\n",
    "        name = var\n",
    "    ))\n",
    "layout = go.Layout(dict(title = \"Opening prices of 5 companies\",\n",
    "                  xaxis = dict(title = 'Month'),\n",
    "                  yaxis = dict(title = 'Price'),\n",
    "                  ),legend=dict(\n",
    "                orientation=\"h\"))\n",
    "py.iplot(dict(data=lst1, layout=layout), filename='basic-line')"
   ]
  },
  {
   "cell_type": "code",
   "execution_count": null,
   "id": "489e09ef",
   "metadata": {},
   "outputs": [],
   "source": []
  }
 ],
 "metadata": {
  "kernelspec": {
   "display_name": "Python 3 (ipykernel)",
   "language": "python",
   "name": "python3"
  },
  "language_info": {
   "codemirror_mode": {
    "name": "ipython",
    "version": 3
   },
   "file_extension": ".py",
   "mimetype": "text/x-python",
   "name": "python",
   "nbconvert_exporter": "python",
   "pygments_lexer": "ipython3",
   "version": "3.9.12"
  }
 },
 "nbformat": 4,
 "nbformat_minor": 5
}
