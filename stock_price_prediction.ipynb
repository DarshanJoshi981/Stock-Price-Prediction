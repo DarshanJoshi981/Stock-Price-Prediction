{
 "cells": [
  {
   "cell_type": "code",
   "execution_count": 1,
   "id": "a1dd2bf6",
   "metadata": {},
   "outputs": [],
   "source": [
    "import numpy as np\n",
    "import pandas as pd\n",
    "import matplotlib.pyplot as plt\n",
    "import seaborn as sns\n",
    "%matplotlib inline\n",
    "from sklearn.preprocessing import LabelEncoder, MinMaxScaler\n",
    "from sklearn.linear_model import LinearRegression\n",
    "from sklearn.ensemble import RandomForestRegressor\n",
    "from sklearn.model_selection import train_test_split\n",
    "from sklearn.metrics import mean_squared_error, mean_absolute_error, r2_score\n",
    "import pickle"
   ]
  },
  {
   "cell_type": "code",
   "execution_count": 2,
   "id": "d10647b5",
   "metadata": {},
   "outputs": [],
   "source": [
    "data = pd.read_csv('dataset/stock_data.csv')"
   ]
  },
  {
   "cell_type": "code",
   "execution_count": 3,
   "id": "25375ecc",
   "metadata": {},
   "outputs": [
    {
     "data": {
      "text/html": [
       "<div>\n",
       "<style scoped>\n",
       "    .dataframe tbody tr th:only-of-type {\n",
       "        vertical-align: middle;\n",
       "    }\n",
       "\n",
       "    .dataframe tbody tr th {\n",
       "        vertical-align: top;\n",
       "    }\n",
       "\n",
       "    .dataframe thead th {\n",
       "        text-align: right;\n",
       "    }\n",
       "</style>\n",
       "<table border=\"1\" class=\"dataframe\">\n",
       "  <thead>\n",
       "    <tr style=\"text-align: right;\">\n",
       "      <th></th>\n",
       "      <th>Date</th>\n",
       "      <th>High</th>\n",
       "      <th>Low</th>\n",
       "      <th>Open</th>\n",
       "      <th>Close</th>\n",
       "      <th>Volume</th>\n",
       "      <th>Adj Close</th>\n",
       "      <th>Company Name</th>\n",
       "    </tr>\n",
       "  </thead>\n",
       "  <tbody>\n",
       "    <tr>\n",
       "      <th>0</th>\n",
       "      <td>2010-01-04</td>\n",
       "      <td>6215.000000</td>\n",
       "      <td>6032.000000</td>\n",
       "      <td>6081.000000</td>\n",
       "      <td>6142.950195</td>\n",
       "      <td>18735.0</td>\n",
       "      <td>5979.571777</td>\n",
       "      <td>MRF</td>\n",
       "    </tr>\n",
       "    <tr>\n",
       "      <th>1</th>\n",
       "      <td>2010-01-05</td>\n",
       "      <td>6269.000000</td>\n",
       "      <td>6150.000000</td>\n",
       "      <td>6200.000000</td>\n",
       "      <td>6160.600098</td>\n",
       "      <td>17947.0</td>\n",
       "      <td>5996.752441</td>\n",
       "      <td>MRF</td>\n",
       "    </tr>\n",
       "    <tr>\n",
       "      <th>2</th>\n",
       "      <td>2010-01-06</td>\n",
       "      <td>6198.000000</td>\n",
       "      <td>6055.000000</td>\n",
       "      <td>6180.000000</td>\n",
       "      <td>6090.399902</td>\n",
       "      <td>10735.0</td>\n",
       "      <td>5928.420898</td>\n",
       "      <td>MRF</td>\n",
       "    </tr>\n",
       "    <tr>\n",
       "      <th>3</th>\n",
       "      <td>2010-01-07</td>\n",
       "      <td>6371.000000</td>\n",
       "      <td>6151.000000</td>\n",
       "      <td>6249.899902</td>\n",
       "      <td>6216.200195</td>\n",
       "      <td>42206.0</td>\n",
       "      <td>6050.873535</td>\n",
       "      <td>MRF</td>\n",
       "    </tr>\n",
       "    <tr>\n",
       "      <th>4</th>\n",
       "      <td>2010-01-08</td>\n",
       "      <td>6294.399902</td>\n",
       "      <td>6150.000000</td>\n",
       "      <td>6243.299805</td>\n",
       "      <td>6166.850098</td>\n",
       "      <td>11155.0</td>\n",
       "      <td>6002.837891</td>\n",
       "      <td>MRF</td>\n",
       "    </tr>\n",
       "    <tr>\n",
       "      <th>5</th>\n",
       "      <td>2010-01-11</td>\n",
       "      <td>6252.000000</td>\n",
       "      <td>6150.000000</td>\n",
       "      <td>6199.000000</td>\n",
       "      <td>6158.600098</td>\n",
       "      <td>9387.0</td>\n",
       "      <td>5994.806152</td>\n",
       "      <td>MRF</td>\n",
       "    </tr>\n",
       "    <tr>\n",
       "      <th>6</th>\n",
       "      <td>2010-01-12</td>\n",
       "      <td>6194.399902</td>\n",
       "      <td>6060.000000</td>\n",
       "      <td>6194.399902</td>\n",
       "      <td>6084.350098</td>\n",
       "      <td>7286.0</td>\n",
       "      <td>5922.532715</td>\n",
       "      <td>MRF</td>\n",
       "    </tr>\n",
       "    <tr>\n",
       "      <th>7</th>\n",
       "      <td>2010-01-13</td>\n",
       "      <td>6145.000000</td>\n",
       "      <td>6048.000000</td>\n",
       "      <td>6085.000000</td>\n",
       "      <td>6107.100098</td>\n",
       "      <td>7550.0</td>\n",
       "      <td>5944.675293</td>\n",
       "      <td>MRF</td>\n",
       "    </tr>\n",
       "    <tr>\n",
       "      <th>8</th>\n",
       "      <td>2010-01-14</td>\n",
       "      <td>6485.000000</td>\n",
       "      <td>6131.149902</td>\n",
       "      <td>6167.799805</td>\n",
       "      <td>6440.799805</td>\n",
       "      <td>59564.0</td>\n",
       "      <td>6269.500000</td>\n",
       "      <td>MRF</td>\n",
       "    </tr>\n",
       "    <tr>\n",
       "      <th>9</th>\n",
       "      <td>2010-01-15</td>\n",
       "      <td>6549.500000</td>\n",
       "      <td>6380.000000</td>\n",
       "      <td>6498.700195</td>\n",
       "      <td>6406.100098</td>\n",
       "      <td>28721.0</td>\n",
       "      <td>6235.722168</td>\n",
       "      <td>MRF</td>\n",
       "    </tr>\n",
       "  </tbody>\n",
       "</table>\n",
       "</div>"
      ],
      "text/plain": [
       "         Date         High          Low         Open        Close   Volume  \\\n",
       "0  2010-01-04  6215.000000  6032.000000  6081.000000  6142.950195  18735.0   \n",
       "1  2010-01-05  6269.000000  6150.000000  6200.000000  6160.600098  17947.0   \n",
       "2  2010-01-06  6198.000000  6055.000000  6180.000000  6090.399902  10735.0   \n",
       "3  2010-01-07  6371.000000  6151.000000  6249.899902  6216.200195  42206.0   \n",
       "4  2010-01-08  6294.399902  6150.000000  6243.299805  6166.850098  11155.0   \n",
       "5  2010-01-11  6252.000000  6150.000000  6199.000000  6158.600098   9387.0   \n",
       "6  2010-01-12  6194.399902  6060.000000  6194.399902  6084.350098   7286.0   \n",
       "7  2010-01-13  6145.000000  6048.000000  6085.000000  6107.100098   7550.0   \n",
       "8  2010-01-14  6485.000000  6131.149902  6167.799805  6440.799805  59564.0   \n",
       "9  2010-01-15  6549.500000  6380.000000  6498.700195  6406.100098  28721.0   \n",
       "\n",
       "     Adj Close Company Name  \n",
       "0  5979.571777          MRF  \n",
       "1  5996.752441          MRF  \n",
       "2  5928.420898          MRF  \n",
       "3  6050.873535          MRF  \n",
       "4  6002.837891          MRF  \n",
       "5  5994.806152          MRF  \n",
       "6  5922.532715          MRF  \n",
       "7  5944.675293          MRF  \n",
       "8  6269.500000          MRF  \n",
       "9  6235.722168          MRF  "
      ]
     },
     "execution_count": 3,
     "metadata": {},
     "output_type": "execute_result"
    }
   ],
   "source": [
    "data.head(10)"
   ]
  },
  {
   "cell_type": "code",
   "execution_count": 4,
   "id": "ea9e6b2f",
   "metadata": {},
   "outputs": [
    {
     "data": {
      "text/plain": [
       "Index(['Date', 'High', 'Low', 'Open', 'Close', 'Volume', 'Adj Close',\n",
       "       'Company Name'],\n",
       "      dtype='object')"
      ]
     },
     "execution_count": 4,
     "metadata": {},
     "output_type": "execute_result"
    }
   ],
   "source": [
    "data.columns"
   ]
  },
  {
   "cell_type": "code",
   "execution_count": 5,
   "id": "b683d2e5",
   "metadata": {},
   "outputs": [
    {
     "data": {
      "text/plain": [
       "Index(['High', 'Low', 'Open', 'Close', 'Volume', 'Company Name'], dtype='object')"
      ]
     },
     "execution_count": 5,
     "metadata": {},
     "output_type": "execute_result"
    }
   ],
   "source": [
    "data.drop('Adj Close',axis=1,inplace=True)\n",
    "data.drop('Date',axis=1,inplace=True)\n",
    "data.columns"
   ]
  },
  {
   "cell_type": "code",
   "execution_count": 6,
   "id": "0db72180",
   "metadata": {},
   "outputs": [],
   "source": [
    "encoder = LabelEncoder()\n",
    "data['Company Name'] = encoder.fit_transform(data['Company Name'])"
   ]
  },
  {
   "cell_type": "code",
   "execution_count": 7,
   "id": "e0a15be9",
   "metadata": {},
   "outputs": [
    {
     "data": {
      "text/html": [
       "<div>\n",
       "<style scoped>\n",
       "    .dataframe tbody tr th:only-of-type {\n",
       "        vertical-align: middle;\n",
       "    }\n",
       "\n",
       "    .dataframe tbody tr th {\n",
       "        vertical-align: top;\n",
       "    }\n",
       "\n",
       "    .dataframe thead th {\n",
       "        text-align: right;\n",
       "    }\n",
       "</style>\n",
       "<table border=\"1\" class=\"dataframe\">\n",
       "  <thead>\n",
       "    <tr style=\"text-align: right;\">\n",
       "      <th></th>\n",
       "      <th>High</th>\n",
       "      <th>Low</th>\n",
       "      <th>Open</th>\n",
       "      <th>Close</th>\n",
       "      <th>Volume</th>\n",
       "      <th>Company Name</th>\n",
       "    </tr>\n",
       "  </thead>\n",
       "  <tbody>\n",
       "    <tr>\n",
       "      <th>0</th>\n",
       "      <td>6215.000000</td>\n",
       "      <td>6032.000000</td>\n",
       "      <td>6081.000000</td>\n",
       "      <td>6142.950195</td>\n",
       "      <td>18735.0</td>\n",
       "      <td>2</td>\n",
       "    </tr>\n",
       "    <tr>\n",
       "      <th>1</th>\n",
       "      <td>6269.000000</td>\n",
       "      <td>6150.000000</td>\n",
       "      <td>6200.000000</td>\n",
       "      <td>6160.600098</td>\n",
       "      <td>17947.0</td>\n",
       "      <td>2</td>\n",
       "    </tr>\n",
       "    <tr>\n",
       "      <th>2</th>\n",
       "      <td>6198.000000</td>\n",
       "      <td>6055.000000</td>\n",
       "      <td>6180.000000</td>\n",
       "      <td>6090.399902</td>\n",
       "      <td>10735.0</td>\n",
       "      <td>2</td>\n",
       "    </tr>\n",
       "    <tr>\n",
       "      <th>3</th>\n",
       "      <td>6371.000000</td>\n",
       "      <td>6151.000000</td>\n",
       "      <td>6249.899902</td>\n",
       "      <td>6216.200195</td>\n",
       "      <td>42206.0</td>\n",
       "      <td>2</td>\n",
       "    </tr>\n",
       "    <tr>\n",
       "      <th>4</th>\n",
       "      <td>6294.399902</td>\n",
       "      <td>6150.000000</td>\n",
       "      <td>6243.299805</td>\n",
       "      <td>6166.850098</td>\n",
       "      <td>11155.0</td>\n",
       "      <td>2</td>\n",
       "    </tr>\n",
       "    <tr>\n",
       "      <th>...</th>\n",
       "      <td>...</td>\n",
       "      <td>...</td>\n",
       "      <td>...</td>\n",
       "      <td>...</td>\n",
       "      <td>...</td>\n",
       "      <td>...</td>\n",
       "    </tr>\n",
       "    <tr>\n",
       "      <th>12310</th>\n",
       "      <td>1538.367798</td>\n",
       "      <td>1495.969727</td>\n",
       "      <td>1527.173950</td>\n",
       "      <td>1501.170410</td>\n",
       "      <td>13734705.0</td>\n",
       "      <td>3</td>\n",
       "    </tr>\n",
       "    <tr>\n",
       "      <th>12311</th>\n",
       "      <td>1531.681152</td>\n",
       "      <td>1507.015015</td>\n",
       "      <td>1512.661499</td>\n",
       "      <td>1527.867310</td>\n",
       "      <td>8158196.0</td>\n",
       "      <td>3</td>\n",
       "    </tr>\n",
       "    <tr>\n",
       "      <th>12312</th>\n",
       "      <td>1533.117554</td>\n",
       "      <td>1513.701660</td>\n",
       "      <td>1531.433594</td>\n",
       "      <td>1529.699951</td>\n",
       "      <td>7902607.0</td>\n",
       "      <td>3</td>\n",
       "    </tr>\n",
       "    <tr>\n",
       "      <th>12313</th>\n",
       "      <td>1529.204712</td>\n",
       "      <td>1493.889404</td>\n",
       "      <td>1527.520630</td>\n",
       "      <td>1499.833130</td>\n",
       "      <td>10246683.0</td>\n",
       "      <td>3</td>\n",
       "    </tr>\n",
       "    <tr>\n",
       "      <th>12314</th>\n",
       "      <td>1512.760498</td>\n",
       "      <td>1491.363403</td>\n",
       "      <td>1503.745972</td>\n",
       "      <td>1495.424927</td>\n",
       "      <td>6463060.0</td>\n",
       "      <td>3</td>\n",
       "    </tr>\n",
       "  </tbody>\n",
       "</table>\n",
       "<p>12315 rows × 6 columns</p>\n",
       "</div>"
      ],
      "text/plain": [
       "              High          Low         Open        Close      Volume  \\\n",
       "0      6215.000000  6032.000000  6081.000000  6142.950195     18735.0   \n",
       "1      6269.000000  6150.000000  6200.000000  6160.600098     17947.0   \n",
       "2      6198.000000  6055.000000  6180.000000  6090.399902     10735.0   \n",
       "3      6371.000000  6151.000000  6249.899902  6216.200195     42206.0   \n",
       "4      6294.399902  6150.000000  6243.299805  6166.850098     11155.0   \n",
       "...            ...          ...          ...          ...         ...   \n",
       "12310  1538.367798  1495.969727  1527.173950  1501.170410  13734705.0   \n",
       "12311  1531.681152  1507.015015  1512.661499  1527.867310   8158196.0   \n",
       "12312  1533.117554  1513.701660  1531.433594  1529.699951   7902607.0   \n",
       "12313  1529.204712  1493.889404  1527.520630  1499.833130  10246683.0   \n",
       "12314  1512.760498  1491.363403  1503.745972  1495.424927   6463060.0   \n",
       "\n",
       "       Company Name  \n",
       "0                 2  \n",
       "1                 2  \n",
       "2                 2  \n",
       "3                 2  \n",
       "4                 2  \n",
       "...             ...  \n",
       "12310             3  \n",
       "12311             3  \n",
       "12312             3  \n",
       "12313             3  \n",
       "12314             3  \n",
       "\n",
       "[12315 rows x 6 columns]"
      ]
     },
     "execution_count": 7,
     "metadata": {},
     "output_type": "execute_result"
    }
   ],
   "source": [
    "data"
   ]
  },
  {
   "cell_type": "code",
   "execution_count": 8,
   "id": "15008e13",
   "metadata": {},
   "outputs": [
    {
     "data": {
      "text/plain": [
       "2    2463\n",
       "1    2463\n",
       "4    2463\n",
       "0    2463\n",
       "3    2463\n",
       "Name: Company Name, dtype: int64"
      ]
     },
     "execution_count": 8,
     "metadata": {},
     "output_type": "execute_result"
    }
   ],
   "source": [
    "data['Company Name'].value_counts()"
   ]
  },
  {
   "cell_type": "code",
   "execution_count": 9,
   "id": "190871b9",
   "metadata": {},
   "outputs": [],
   "source": [
    "scaler = MinMaxScaler(feature_range=(0,1))\n",
    "data['High'] = scaler.fit_transform(np.array(data['High']).reshape(-1,1))\n",
    "data['Close'] = scaler.fit_transform(np.array(data['Close']).reshape(-1,1))\n",
    "data['Open'] = scaler.fit_transform(np.array(data['Open']).reshape(-1,1))\n",
    "data['Low'] = scaler.fit_transform(np.array(data['Low']).reshape(-1,1))\n",
    "data['Volume'] = scaler.fit_transform(np.array(data['Volume']).reshape(-1,1))\n"
   ]
  },
  {
   "cell_type": "code",
   "execution_count": 10,
   "id": "5188460d",
   "metadata": {},
   "outputs": [
    {
     "data": {
      "text/html": [
       "<div>\n",
       "<style scoped>\n",
       "    .dataframe tbody tr th:only-of-type {\n",
       "        vertical-align: middle;\n",
       "    }\n",
       "\n",
       "    .dataframe tbody tr th {\n",
       "        vertical-align: top;\n",
       "    }\n",
       "\n",
       "    .dataframe thead th {\n",
       "        text-align: right;\n",
       "    }\n",
       "</style>\n",
       "<table border=\"1\" class=\"dataframe\">\n",
       "  <thead>\n",
       "    <tr style=\"text-align: right;\">\n",
       "      <th></th>\n",
       "      <th>High</th>\n",
       "      <th>Low</th>\n",
       "      <th>Open</th>\n",
       "      <th>Close</th>\n",
       "      <th>Volume</th>\n",
       "      <th>Company Name</th>\n",
       "    </tr>\n",
       "  </thead>\n",
       "  <tbody>\n",
       "    <tr>\n",
       "      <th>0</th>\n",
       "      <td>0.075059</td>\n",
       "      <td>0.074434</td>\n",
       "      <td>0.073824</td>\n",
       "      <td>0.074738</td>\n",
       "      <td>0.000085</td>\n",
       "      <td>2</td>\n",
       "    </tr>\n",
       "    <tr>\n",
       "      <th>1</th>\n",
       "      <td>0.075723</td>\n",
       "      <td>0.075916</td>\n",
       "      <td>0.075295</td>\n",
       "      <td>0.074957</td>\n",
       "      <td>0.000081</td>\n",
       "      <td>2</td>\n",
       "    </tr>\n",
       "    <tr>\n",
       "      <th>2</th>\n",
       "      <td>0.074850</td>\n",
       "      <td>0.074723</td>\n",
       "      <td>0.075048</td>\n",
       "      <td>0.074087</td>\n",
       "      <td>0.000048</td>\n",
       "      <td>2</td>\n",
       "    </tr>\n",
       "    <tr>\n",
       "      <th>3</th>\n",
       "      <td>0.076977</td>\n",
       "      <td>0.075929</td>\n",
       "      <td>0.075912</td>\n",
       "      <td>0.075645</td>\n",
       "      <td>0.000191</td>\n",
       "      <td>2</td>\n",
       "    </tr>\n",
       "    <tr>\n",
       "      <th>4</th>\n",
       "      <td>0.076035</td>\n",
       "      <td>0.075916</td>\n",
       "      <td>0.075830</td>\n",
       "      <td>0.075034</td>\n",
       "      <td>0.000050</td>\n",
       "      <td>2</td>\n",
       "    </tr>\n",
       "    <tr>\n",
       "      <th>...</th>\n",
       "      <td>...</td>\n",
       "      <td>...</td>\n",
       "      <td>...</td>\n",
       "      <td>...</td>\n",
       "      <td>...</td>\n",
       "      <td>...</td>\n",
       "    </tr>\n",
       "    <tr>\n",
       "      <th>12310</th>\n",
       "      <td>0.017546</td>\n",
       "      <td>0.017459</td>\n",
       "      <td>0.017526</td>\n",
       "      <td>0.017257</td>\n",
       "      <td>0.062044</td>\n",
       "      <td>3</td>\n",
       "    </tr>\n",
       "    <tr>\n",
       "      <th>12311</th>\n",
       "      <td>0.017463</td>\n",
       "      <td>0.017598</td>\n",
       "      <td>0.017347</td>\n",
       "      <td>0.017587</td>\n",
       "      <td>0.036853</td>\n",
       "      <td>3</td>\n",
       "    </tr>\n",
       "    <tr>\n",
       "      <th>12312</th>\n",
       "      <td>0.017481</td>\n",
       "      <td>0.017682</td>\n",
       "      <td>0.017579</td>\n",
       "      <td>0.017610</td>\n",
       "      <td>0.035698</td>\n",
       "      <td>3</td>\n",
       "    </tr>\n",
       "    <tr>\n",
       "      <th>12313</th>\n",
       "      <td>0.017433</td>\n",
       "      <td>0.017433</td>\n",
       "      <td>0.017531</td>\n",
       "      <td>0.017240</td>\n",
       "      <td>0.046287</td>\n",
       "      <td>3</td>\n",
       "    </tr>\n",
       "    <tr>\n",
       "      <th>12314</th>\n",
       "      <td>0.017231</td>\n",
       "      <td>0.017401</td>\n",
       "      <td>0.017237</td>\n",
       "      <td>0.017185</td>\n",
       "      <td>0.029196</td>\n",
       "      <td>3</td>\n",
       "    </tr>\n",
       "  </tbody>\n",
       "</table>\n",
       "<p>12315 rows × 6 columns</p>\n",
       "</div>"
      ],
      "text/plain": [
       "           High       Low      Open     Close    Volume  Company Name\n",
       "0      0.075059  0.074434  0.073824  0.074738  0.000085             2\n",
       "1      0.075723  0.075916  0.075295  0.074957  0.000081             2\n",
       "2      0.074850  0.074723  0.075048  0.074087  0.000048             2\n",
       "3      0.076977  0.075929  0.075912  0.075645  0.000191             2\n",
       "4      0.076035  0.075916  0.075830  0.075034  0.000050             2\n",
       "...         ...       ...       ...       ...       ...           ...\n",
       "12310  0.017546  0.017459  0.017526  0.017257  0.062044             3\n",
       "12311  0.017463  0.017598  0.017347  0.017587  0.036853             3\n",
       "12312  0.017481  0.017682  0.017579  0.017610  0.035698             3\n",
       "12313  0.017433  0.017433  0.017531  0.017240  0.046287             3\n",
       "12314  0.017231  0.017401  0.017237  0.017185  0.029196             3\n",
       "\n",
       "[12315 rows x 6 columns]"
      ]
     },
     "execution_count": 10,
     "metadata": {},
     "output_type": "execute_result"
    }
   ],
   "source": [
    "data"
   ]
  },
  {
   "cell_type": "code",
   "execution_count": 11,
   "id": "cae524d1",
   "metadata": {},
   "outputs": [],
   "source": [
    "X = data.drop('Close', axis=1)\n",
    "y = data.Close"
   ]
  },
  {
   "cell_type": "code",
   "execution_count": 12,
   "id": "ea3eaba5",
   "metadata": {},
   "outputs": [
    {
     "name": "stdout",
     "output_type": "stream",
     "text": [
      "(12315, 5)\n",
      "(12315,)\n"
     ]
    }
   ],
   "source": [
    "print(X.shape)\n",
    "print(y.shape)"
   ]
  },
  {
   "cell_type": "code",
   "execution_count": 13,
   "id": "253074c7",
   "metadata": {},
   "outputs": [],
   "source": [
    "X_train, X_test, y_train, y_test = train_test_split(X, y, test_size = 0.25, random_state = 0)"
   ]
  },
  {
   "cell_type": "code",
   "execution_count": 14,
   "id": "cde614ab",
   "metadata": {},
   "outputs": [
    {
     "name": "stdout",
     "output_type": "stream",
     "text": [
      "(9236, 5)\n",
      "(9236,)\n",
      "(3079, 5)\n",
      "(3079,)\n"
     ]
    }
   ],
   "source": [
    "print(X_train.shape)\n",
    "print(y_train.shape)\n",
    "print(X_test.shape)\n",
    "print(y_test.shape)"
   ]
  },
  {
   "cell_type": "code",
   "execution_count": 15,
   "id": "5b9ad964",
   "metadata": {},
   "outputs": [],
   "source": [
    "model = LinearRegression()"
   ]
  },
  {
   "cell_type": "code",
   "execution_count": 16,
   "id": "3a31b9ac",
   "metadata": {},
   "outputs": [
    {
     "data": {
      "text/plain": [
       "LinearRegression()"
      ]
     },
     "execution_count": 16,
     "metadata": {},
     "output_type": "execute_result"
    }
   ],
   "source": [
    "model.fit(X_train,y_train)"
   ]
  },
  {
   "cell_type": "code",
   "execution_count": 17,
   "id": "553ab5e5",
   "metadata": {},
   "outputs": [
    {
     "data": {
      "text/plain": [
       "0.9999649456530404"
      ]
     },
     "execution_count": 17,
     "metadata": {},
     "output_type": "execute_result"
    }
   ],
   "source": [
    "model.score(X_train, y_train)"
   ]
  },
  {
   "cell_type": "code",
   "execution_count": 18,
   "id": "d11b24ac",
   "metadata": {},
   "outputs": [],
   "source": [
    "y_pred = model.predict(X_test)"
   ]
  },
  {
   "cell_type": "code",
   "execution_count": 19,
   "id": "83b0c782",
   "metadata": {},
   "outputs": [
    {
     "data": {
      "text/plain": [
       "0.9999521670345198"
      ]
     },
     "execution_count": 19,
     "metadata": {},
     "output_type": "execute_result"
    }
   ],
   "source": [
    "model.score(X_test, y_test)"
   ]
  },
  {
   "cell_type": "code",
   "execution_count": 20,
   "id": "fd77069e",
   "metadata": {},
   "outputs": [
    {
     "data": {
      "text/plain": [
       "array([ 8.85343510e-01,  7.58426840e-01, -6.51435171e-01,  6.72751086e-04,\n",
       "       -1.21125490e-06])"
      ]
     },
     "execution_count": 20,
     "metadata": {},
     "output_type": "execute_result"
    }
   ],
   "source": [
    "model.coef_"
   ]
  },
  {
   "cell_type": "code",
   "execution_count": 21,
   "id": "5a049436",
   "metadata": {},
   "outputs": [
    {
     "name": "stdout",
     "output_type": "stream",
     "text": [
      "Mean squared error: 0.00\n",
      "Mean Absolute Error: 0.000383\n",
      "Coefficient of determination: 1.00\n"
     ]
    }
   ],
   "source": [
    "print('Mean squared error: %.2f'% mean_squared_error(y_test, y_pred))\n",
    "print('Mean Absolute Error: %2f'% mean_absolute_error(y_test, y_pred))\n",
    "print('Coefficient of determination: %.2f'% r2_score(y_test, y_pred))"
   ]
  },
  {
   "cell_type": "code",
   "execution_count": 22,
   "id": "c6df7429",
   "metadata": {},
   "outputs": [
    {
     "data": {
      "text/plain": [
       "Text(0, 0.5, 'Y Predict')"
      ]
     },
     "execution_count": 22,
     "metadata": {},
     "output_type": "execute_result"
    },
    {
     "data": {
      "image/png": "[encoded data removed]",
      "text/plain": [
       "<Figure size 432x288 with 1 Axes>"
      ]
     },
     "metadata": {
      "needs_background": "light"
     },
     "output_type": "display_data"
    }
   ],
   "source": [
    "plt.scatter(x = y_test, y = y_pred)\n",
    "plt.xlabel('Y Test')\n",
    "plt.ylabel('Y Predict')"
   ]
  },
  {
   "cell_type": "code",
   "execution_count": 23,
   "id": "a2822343",
   "metadata": {},
   "outputs": [],
   "source": [
    "model2 = RandomForestRegressor()"
   ]
  },
  {
   "cell_type": "code",
   "execution_count": 24,
   "id": "c061ce1d",
   "metadata": {},
   "outputs": [
    {
     "data": {
      "text/plain": [
       "RandomForestRegressor()"
      ]
     },
     "execution_count": 24,
     "metadata": {},
     "output_type": "execute_result"
    }
   ],
   "source": [
    "model2.fit(X_train, y_train)"
   ]
  },
  {
   "cell_type": "code",
   "execution_count": 25,
   "id": "f86e6c71",
   "metadata": {},
   "outputs": [
    {
     "data": {
      "text/plain": [
       "0.9999649456530404"
      ]
     },
     "execution_count": 25,
     "metadata": {},
     "output_type": "execute_result"
    }
   ],
   "source": [
    "model.score(X_train, y_train)"
   ]
  },
  {
   "cell_type": "code",
   "execution_count": 26,
   "id": "a46e1080",
   "metadata": {},
   "outputs": [],
   "source": [
    "y_pred = model2.predict(X_test)"
   ]
  },
  {
   "cell_type": "code",
   "execution_count": 27,
   "id": "88bbc363",
   "metadata": {},
   "outputs": [
    {
     "data": {
      "text/plain": [
       "0.9999521670345198"
      ]
     },
     "execution_count": 27,
     "metadata": {},
     "output_type": "execute_result"
    }
   ],
   "source": [
    "model.score(X_test, y_test)"
   ]
  },
  {
   "cell_type": "code",
   "execution_count": 28,
   "id": "0ce29676",
   "metadata": {},
   "outputs": [
    {
     "name": "stdout",
     "output_type": "stream",
     "text": [
      "Mean squared error: 0.00\n",
      "Mean Absolute Error: 0.000550\n",
      "Coefficient of determination: 1.00\n"
     ]
    }
   ],
   "source": [
    "print('Mean squared error: %.2f'% mean_squared_error(y_test, y_pred))\n",
    "print('Mean Absolute Error: %2f'% mean_absolute_error(y_test, y_pred))\n",
    "print('Coefficient of determination: %.2f'% r2_score(y_test, y_pred))"
   ]
  },
  {
   "cell_type": "code",
   "execution_count": 29,
   "id": "416fe9fb",
   "metadata": {},
   "outputs": [
    {
     "data": {
      "text/plain": [
       "Text(0, 0.5, 'Y Predict')"
      ]
     },
     "execution_count": 29,
     "metadata": {},
     "output_type": "execute_result"
    },
    {
     "data": {
      "image/png": "[encoded data removed]",
      "text/plain": [
       "<Figure size 432x288 with 1 Axes>"
      ]
     },
     "metadata": {
      "needs_background": "light"
     },
     "output_type": "display_data"
    }
   ],
   "source": [
    "plt.scatter(x = y_test, y = y_pred)\n",
    "plt.xlabel('Y Test')\n",
    "plt.ylabel('Y Predict')"
   ]
  },
  {
   "cell_type": "code",
   "execution_count": 30,
   "id": "c2389edb",
   "metadata": {},
   "outputs": [],
   "source": [
    "with open('model/model.pickle', 'wb') as file:\n",
    "      pickle.dump(model, file)"
   ]
  }
 ],
 "metadata": {
  "kernelspec": {
   "display_name": "Python 3 (ipykernel)",
   "language": "python",
   "name": "python3"
  },
  "language_info": {
   "codemirror_mode": {
    "name": "ipython",
    "version": 3
   },
   "file_extension": ".py",
   "mimetype": "text/x-python",
   "name": "python",
   "nbconvert_exporter": "python",
   "pygments_lexer": "ipython3",
   "version": "3.9.12"
  }
 },
 "nbformat": 4,
 "nbformat_minor": 5
}
