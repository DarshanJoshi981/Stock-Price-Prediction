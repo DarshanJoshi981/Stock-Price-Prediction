{
 "cells": [
  {
   "cell_type": "code",
   "execution_count": 1,
   "id": "a1dd2bf6",
   "metadata": {},
   "outputs": [],
   "source": [
    "import numpy as np\n",
    "import pandas as pd\n",
    "import matplotlib.pyplot as plt\n",
    "import seaborn as sns\n",
    "%matplotlib inline\n",
    "from sklearn.preprocessing import LabelEncoder, MinMaxScaler\n",
    "from sklearn.linear_model import LinearRegression\n",
    "from sklearn.ensemble import RandomForestRegressor\n",
    "from sklearn.model_selection import train_test_split\n",
    "from sklearn.metrics import mean_squared_error, mean_absolute_error, r2_score\n",
    "import pickle"
   ]
  },
  {
   "cell_type": "code",
   "execution_count": 2,
   "id": "d10647b5",
   "metadata": {},
   "outputs": [],
   "source": [
    "data = pd.read_csv('dataset/stock_data.csv')"
   ]
  },
  {
   "cell_type": "code",
   "execution_count": 3,
   "id": "25375ecc",
   "metadata": {},
   "outputs": [
    {
     "data": {
      "text/html": [
       "<div>\n",
       "<style scoped>\n",
       "    .dataframe tbody tr th:only-of-type {\n",
       "        vertical-align: middle;\n",
       "    }\n",
       "\n",
       "    .dataframe tbody tr th {\n",
       "        vertical-align: top;\n",
       "    }\n",
       "\n",
       "    .dataframe thead th {\n",
       "        text-align: right;\n",
       "    }\n",
       "</style>\n",
       "<table border=\"1\" class=\"dataframe\">\n",
       "  <thead>\n",
       "    <tr style=\"text-align: right;\">\n",
       "      <th></th>\n",
       "      <th>Date</th>\n",
       "      <th>High</th>\n",
       "      <th>Low</th>\n",
       "      <th>Open</th>\n",
       "      <th>Close</th>\n",
       "      <th>Volume</th>\n",
       "      <th>Adj Close</th>\n",
       "      <th>Company Name</th>\n",
       "    </tr>\n",
       "  </thead>\n",
       "  <tbody>\n",
       "    <tr>\n",
       "      <th>0</th>\n",
       "      <td>2010-01-04</td>\n",
       "      <td>93.750000</td>\n",
       "      <td>92.012497</td>\n",
       "      <td>93.562500</td>\n",
       "      <td>92.775002</td>\n",
       "      <td>1632148.0</td>\n",
       "      <td>73.478745</td>\n",
       "      <td>HCL</td>\n",
       "    </tr>\n",
       "    <tr>\n",
       "      <th>1</th>\n",
       "      <td>2010-01-05</td>\n",
       "      <td>95.250000</td>\n",
       "      <td>92.637497</td>\n",
       "      <td>93.125000</td>\n",
       "      <td>94.862503</td>\n",
       "      <td>5037896.0</td>\n",
       "      <td>75.132080</td>\n",
       "      <td>HCL</td>\n",
       "    </tr>\n",
       "    <tr>\n",
       "      <th>2</th>\n",
       "      <td>2010-01-06</td>\n",
       "      <td>95.724998</td>\n",
       "      <td>91.250000</td>\n",
       "      <td>95.025002</td>\n",
       "      <td>92.000000</td>\n",
       "      <td>3992320.0</td>\n",
       "      <td>72.864944</td>\n",
       "      <td>HCL</td>\n",
       "    </tr>\n",
       "    <tr>\n",
       "      <th>3</th>\n",
       "      <td>2010-01-07</td>\n",
       "      <td>92.974998</td>\n",
       "      <td>89.800003</td>\n",
       "      <td>92.974998</td>\n",
       "      <td>90.037498</td>\n",
       "      <td>3665940.0</td>\n",
       "      <td>71.310638</td>\n",
       "      <td>HCL</td>\n",
       "    </tr>\n",
       "    <tr>\n",
       "      <th>4</th>\n",
       "      <td>2010-01-08</td>\n",
       "      <td>90.750000</td>\n",
       "      <td>87.312500</td>\n",
       "      <td>90.750000</td>\n",
       "      <td>87.937500</td>\n",
       "      <td>6241492.0</td>\n",
       "      <td>69.647415</td>\n",
       "      <td>HCL</td>\n",
       "    </tr>\n",
       "    <tr>\n",
       "      <th>5</th>\n",
       "      <td>2010-01-11</td>\n",
       "      <td>90.375000</td>\n",
       "      <td>87.949997</td>\n",
       "      <td>87.949997</td>\n",
       "      <td>88.812500</td>\n",
       "      <td>5742332.0</td>\n",
       "      <td>70.340424</td>\n",
       "      <td>HCL</td>\n",
       "    </tr>\n",
       "    <tr>\n",
       "      <th>6</th>\n",
       "      <td>2010-01-12</td>\n",
       "      <td>93.449997</td>\n",
       "      <td>88.750000</td>\n",
       "      <td>89.250000</td>\n",
       "      <td>91.962502</td>\n",
       "      <td>9051468.0</td>\n",
       "      <td>72.835266</td>\n",
       "      <td>HCL</td>\n",
       "    </tr>\n",
       "    <tr>\n",
       "      <th>7</th>\n",
       "      <td>2010-01-13</td>\n",
       "      <td>94.750000</td>\n",
       "      <td>90.025002</td>\n",
       "      <td>91.962502</td>\n",
       "      <td>94.487503</td>\n",
       "      <td>8064504.0</td>\n",
       "      <td>74.835060</td>\n",
       "      <td>HCL</td>\n",
       "    </tr>\n",
       "    <tr>\n",
       "      <th>8</th>\n",
       "      <td>2010-01-14</td>\n",
       "      <td>95.937500</td>\n",
       "      <td>91.400002</td>\n",
       "      <td>94.974998</td>\n",
       "      <td>92.525002</td>\n",
       "      <td>7763244.0</td>\n",
       "      <td>73.280762</td>\n",
       "      <td>HCL</td>\n",
       "    </tr>\n",
       "    <tr>\n",
       "      <th>9</th>\n",
       "      <td>2010-01-15</td>\n",
       "      <td>93.474998</td>\n",
       "      <td>91.537498</td>\n",
       "      <td>92.875000</td>\n",
       "      <td>92.349998</td>\n",
       "      <td>2749332.0</td>\n",
       "      <td>73.142151</td>\n",
       "      <td>HCL</td>\n",
       "    </tr>\n",
       "  </tbody>\n",
       "</table>\n",
       "</div>"
      ],
      "text/plain": [
       "         Date       High        Low       Open      Close     Volume  \\\n",
       "0  2010-01-04  93.750000  92.012497  93.562500  92.775002  1632148.0   \n",
       "1  2010-01-05  95.250000  92.637497  93.125000  94.862503  5037896.0   \n",
       "2  2010-01-06  95.724998  91.250000  95.025002  92.000000  3992320.0   \n",
       "3  2010-01-07  92.974998  89.800003  92.974998  90.037498  3665940.0   \n",
       "4  2010-01-08  90.750000  87.312500  90.750000  87.937500  6241492.0   \n",
       "5  2010-01-11  90.375000  87.949997  87.949997  88.812500  5742332.0   \n",
       "6  2010-01-12  93.449997  88.750000  89.250000  91.962502  9051468.0   \n",
       "7  2010-01-13  94.750000  90.025002  91.962502  94.487503  8064504.0   \n",
       "8  2010-01-14  95.937500  91.400002  94.974998  92.525002  7763244.0   \n",
       "9  2010-01-15  93.474998  91.537498  92.875000  92.349998  2749332.0   \n",
       "\n",
       "   Adj Close Company Name  \n",
       "0  73.478745          HCL  \n",
       "1  75.132080          HCL  \n",
       "2  72.864944          HCL  \n",
       "3  71.310638          HCL  \n",
       "4  69.647415          HCL  \n",
       "5  70.340424          HCL  \n",
       "6  72.835266          HCL  \n",
       "7  74.835060          HCL  \n",
       "8  73.280762          HCL  \n",
       "9  73.142151          HCL  "
      ]
     },
     "execution_count": 3,
     "metadata": {},
     "output_type": "execute_result"
    }
   ],
   "source": [
    "data.head(10)"
   ]
  },
  {
   "cell_type": "code",
   "execution_count": 4,
   "id": "ea9e6b2f",
   "metadata": {},
   "outputs": [
    {
     "data": {
      "text/plain": [
       "Index(['Date', 'High', 'Low', 'Open', 'Close', 'Volume', 'Adj Close',\n",
       "       'Company Name'],\n",
       "      dtype='object')"
      ]
     },
     "execution_count": 4,
     "metadata": {},
     "output_type": "execute_result"
    }
   ],
   "source": [
    "data.columns"
   ]
  },
  {
   "cell_type": "code",
   "execution_count": 5,
   "id": "b683d2e5",
   "metadata": {},
   "outputs": [
    {
     "data": {
      "text/plain": [
       "Index(['High', 'Low', 'Open', 'Close', 'Volume', 'Company Name'], dtype='object')"
      ]
     },
     "execution_count": 5,
     "metadata": {},
     "output_type": "execute_result"
    }
   ],
   "source": [
    "data.drop('Adj Close',axis=1,inplace=True)\n",
    "data.drop('Date',axis=1,inplace=True)\n",
    "data.columns"
   ]
  },
  {
   "cell_type": "code",
   "execution_count": 6,
   "id": "0db72180",
   "metadata": {},
   "outputs": [],
   "source": [
    "encoder = LabelEncoder()\n",
    "data['Company Name'] = encoder.fit_transform(data['Company Name'])"
   ]
  },
  {
   "cell_type": "code",
   "execution_count": 7,
   "id": "e0a15be9",
   "metadata": {},
   "outputs": [
    {
     "data": {
      "text/html": [
       "<div>\n",
       "<style scoped>\n",
       "    .dataframe tbody tr th:only-of-type {\n",
       "        vertical-align: middle;\n",
       "    }\n",
       "\n",
       "    .dataframe tbody tr th {\n",
       "        vertical-align: top;\n",
       "    }\n",
       "\n",
       "    .dataframe thead th {\n",
       "        text-align: right;\n",
       "    }\n",
       "</style>\n",
       "<table border=\"1\" class=\"dataframe\">\n",
       "  <thead>\n",
       "    <tr style=\"text-align: right;\">\n",
       "      <th></th>\n",
       "      <th>High</th>\n",
       "      <th>Low</th>\n",
       "      <th>Open</th>\n",
       "      <th>Close</th>\n",
       "      <th>Volume</th>\n",
       "      <th>Company Name</th>\n",
       "    </tr>\n",
       "  </thead>\n",
       "  <tbody>\n",
       "    <tr>\n",
       "      <th>0</th>\n",
       "      <td>93.750000</td>\n",
       "      <td>92.012497</td>\n",
       "      <td>93.562500</td>\n",
       "      <td>92.775002</td>\n",
       "      <td>1632148.0</td>\n",
       "      <td>0</td>\n",
       "    </tr>\n",
       "    <tr>\n",
       "      <th>1</th>\n",
       "      <td>95.250000</td>\n",
       "      <td>92.637497</td>\n",
       "      <td>93.125000</td>\n",
       "      <td>94.862503</td>\n",
       "      <td>5037896.0</td>\n",
       "      <td>0</td>\n",
       "    </tr>\n",
       "    <tr>\n",
       "      <th>2</th>\n",
       "      <td>95.724998</td>\n",
       "      <td>91.250000</td>\n",
       "      <td>95.025002</td>\n",
       "      <td>92.000000</td>\n",
       "      <td>3992320.0</td>\n",
       "      <td>0</td>\n",
       "    </tr>\n",
       "    <tr>\n",
       "      <th>3</th>\n",
       "      <td>92.974998</td>\n",
       "      <td>89.800003</td>\n",
       "      <td>92.974998</td>\n",
       "      <td>90.037498</td>\n",
       "      <td>3665940.0</td>\n",
       "      <td>0</td>\n",
       "    </tr>\n",
       "    <tr>\n",
       "      <th>4</th>\n",
       "      <td>90.750000</td>\n",
       "      <td>87.312500</td>\n",
       "      <td>90.750000</td>\n",
       "      <td>87.937500</td>\n",
       "      <td>6241492.0</td>\n",
       "      <td>0</td>\n",
       "    </tr>\n",
       "    <tr>\n",
       "      <th>...</th>\n",
       "      <td>...</td>\n",
       "      <td>...</td>\n",
       "      <td>...</td>\n",
       "      <td>...</td>\n",
       "      <td>...</td>\n",
       "      <td>...</td>\n",
       "    </tr>\n",
       "    <tr>\n",
       "      <th>12311</th>\n",
       "      <td>1538.367798</td>\n",
       "      <td>1495.969727</td>\n",
       "      <td>1527.173950</td>\n",
       "      <td>1501.170410</td>\n",
       "      <td>13734705.0</td>\n",
       "      <td>3</td>\n",
       "    </tr>\n",
       "    <tr>\n",
       "      <th>12312</th>\n",
       "      <td>1531.681152</td>\n",
       "      <td>1507.015015</td>\n",
       "      <td>1512.661499</td>\n",
       "      <td>1527.867310</td>\n",
       "      <td>8158196.0</td>\n",
       "      <td>3</td>\n",
       "    </tr>\n",
       "    <tr>\n",
       "      <th>12313</th>\n",
       "      <td>1533.117554</td>\n",
       "      <td>1513.701660</td>\n",
       "      <td>1531.433594</td>\n",
       "      <td>1529.699951</td>\n",
       "      <td>7902607.0</td>\n",
       "      <td>3</td>\n",
       "    </tr>\n",
       "    <tr>\n",
       "      <th>12314</th>\n",
       "      <td>1529.204712</td>\n",
       "      <td>1493.889404</td>\n",
       "      <td>1527.520630</td>\n",
       "      <td>1499.833130</td>\n",
       "      <td>10246683.0</td>\n",
       "      <td>3</td>\n",
       "    </tr>\n",
       "    <tr>\n",
       "      <th>12315</th>\n",
       "      <td>1512.760498</td>\n",
       "      <td>1491.363403</td>\n",
       "      <td>1503.745972</td>\n",
       "      <td>1495.424927</td>\n",
       "      <td>6463060.0</td>\n",
       "      <td>3</td>\n",
       "    </tr>\n",
       "  </tbody>\n",
       "</table>\n",
       "<p>12316 rows × 6 columns</p>\n",
       "</div>"
      ],
      "text/plain": [
       "              High          Low         Open        Close      Volume  \\\n",
       "0        93.750000    92.012497    93.562500    92.775002   1632148.0   \n",
       "1        95.250000    92.637497    93.125000    94.862503   5037896.0   \n",
       "2        95.724998    91.250000    95.025002    92.000000   3992320.0   \n",
       "3        92.974998    89.800003    92.974998    90.037498   3665940.0   \n",
       "4        90.750000    87.312500    90.750000    87.937500   6241492.0   \n",
       "...            ...          ...          ...          ...         ...   \n",
       "12311  1538.367798  1495.969727  1527.173950  1501.170410  13734705.0   \n",
       "12312  1531.681152  1507.015015  1512.661499  1527.867310   8158196.0   \n",
       "12313  1533.117554  1513.701660  1531.433594  1529.699951   7902607.0   \n",
       "12314  1529.204712  1493.889404  1527.520630  1499.833130  10246683.0   \n",
       "12315  1512.760498  1491.363403  1503.745972  1495.424927   6463060.0   \n",
       "\n",
       "       Company Name  \n",
       "0                 0  \n",
       "1                 0  \n",
       "2                 0  \n",
       "3                 0  \n",
       "4                 0  \n",
       "...             ...  \n",
       "12311             3  \n",
       "12312             3  \n",
       "12313             3  \n",
       "12314             3  \n",
       "12315             3  \n",
       "\n",
       "[12316 rows x 6 columns]"
      ]
     },
     "execution_count": 7,
     "metadata": {},
     "output_type": "execute_result"
    }
   ],
   "source": [
    "data"
   ]
  },
  {
   "cell_type": "code",
   "execution_count": 8,
   "id": "15008e13",
   "metadata": {},
   "outputs": [
    {
     "data": {
      "text/plain": [
       "0    2464\n",
       "2    2463\n",
       "4    2463\n",
       "1    2463\n",
       "3    2463\n",
       "Name: Company Name, dtype: int64"
      ]
     },
     "execution_count": 8,
     "metadata": {},
     "output_type": "execute_result"
    }
   ],
   "source": [
    "data['Company Name'].value_counts()"
   ]
  },
  {
   "cell_type": "code",
   "execution_count": 9,
   "id": "190871b9",
   "metadata": {},
   "outputs": [],
   "source": [
    "scaler = MinMaxScaler(feature_range=(0,1))\n",
    "data['High'] = scaler.fit_transform(np.array(data['High']).reshape(-1,1))\n",
    "data['Close'] = scaler.fit_transform(np.array(data['Close']).reshape(-1,1))\n",
    "data['Open'] = scaler.fit_transform(np.array(data['Open']).reshape(-1,1))\n",
    "data['Low'] = scaler.fit_transform(np.array(data['Low']).reshape(-1,1))\n",
    "data['Volume'] = scaler.fit_transform(np.array(data['Volume']).reshape(-1,1))\n"
   ]
  },
  {
   "cell_type": "code",
   "execution_count": 10,
   "id": "5188460d",
   "metadata": {},
   "outputs": [
    {
     "data": {
      "text/html": [
       "<div>\n",
       "<style scoped>\n",
       "    .dataframe tbody tr th:only-of-type {\n",
       "        vertical-align: middle;\n",
       "    }\n",
       "\n",
       "    .dataframe tbody tr th {\n",
       "        vertical-align: top;\n",
       "    }\n",
       "\n",
       "    .dataframe thead th {\n",
       "        text-align: right;\n",
       "    }\n",
       "</style>\n",
       "<table border=\"1\" class=\"dataframe\">\n",
       "  <thead>\n",
       "    <tr style=\"text-align: right;\">\n",
       "      <th></th>\n",
       "      <th>High</th>\n",
       "      <th>Low</th>\n",
       "      <th>Open</th>\n",
       "      <th>Close</th>\n",
       "      <th>Volume</th>\n",
       "      <th>Company Name</th>\n",
       "    </tr>\n",
       "  </thead>\n",
       "  <tbody>\n",
       "    <tr>\n",
       "      <th>0</th>\n",
       "      <td>0.005439</td>\n",
       "      <td>0.008407</td>\n",
       "      <td>0.009323</td>\n",
       "      <td>0.006761</td>\n",
       "      <td>0.007373</td>\n",
       "      <td>0</td>\n",
       "    </tr>\n",
       "    <tr>\n",
       "      <th>1</th>\n",
       "      <td>0.006428</td>\n",
       "      <td>0.008823</td>\n",
       "      <td>0.009035</td>\n",
       "      <td>0.008142</td>\n",
       "      <td>0.022758</td>\n",
       "      <td>0</td>\n",
       "    </tr>\n",
       "    <tr>\n",
       "      <th>2</th>\n",
       "      <td>0.006741</td>\n",
       "      <td>0.007899</td>\n",
       "      <td>0.010285</td>\n",
       "      <td>0.006249</td>\n",
       "      <td>0.018034</td>\n",
       "      <td>0</td>\n",
       "    </tr>\n",
       "    <tr>\n",
       "      <th>3</th>\n",
       "      <td>0.004928</td>\n",
       "      <td>0.006934</td>\n",
       "      <td>0.008937</td>\n",
       "      <td>0.004951</td>\n",
       "      <td>0.016560</td>\n",
       "      <td>0</td>\n",
       "    </tr>\n",
       "    <tr>\n",
       "      <th>4</th>\n",
       "      <td>0.003461</td>\n",
       "      <td>0.005277</td>\n",
       "      <td>0.007473</td>\n",
       "      <td>0.003562</td>\n",
       "      <td>0.028195</td>\n",
       "      <td>0</td>\n",
       "    </tr>\n",
       "    <tr>\n",
       "      <th>...</th>\n",
       "      <td>...</td>\n",
       "      <td>...</td>\n",
       "      <td>...</td>\n",
       "      <td>...</td>\n",
       "      <td>...</td>\n",
       "      <td>...</td>\n",
       "    </tr>\n",
       "    <tr>\n",
       "      <th>12311</th>\n",
       "      <td>0.957812</td>\n",
       "      <td>0.943303</td>\n",
       "      <td>0.952211</td>\n",
       "      <td>0.938066</td>\n",
       "      <td>0.062044</td>\n",
       "      <td>3</td>\n",
       "    </tr>\n",
       "    <tr>\n",
       "      <th>12312</th>\n",
       "      <td>0.953404</td>\n",
       "      <td>0.950658</td>\n",
       "      <td>0.942666</td>\n",
       "      <td>0.955719</td>\n",
       "      <td>0.036853</td>\n",
       "      <td>3</td>\n",
       "    </tr>\n",
       "    <tr>\n",
       "      <th>12313</th>\n",
       "      <td>0.954351</td>\n",
       "      <td>0.955111</td>\n",
       "      <td>0.955012</td>\n",
       "      <td>0.956931</td>\n",
       "      <td>0.035698</td>\n",
       "      <td>3</td>\n",
       "    </tr>\n",
       "    <tr>\n",
       "      <th>12314</th>\n",
       "      <td>0.951771</td>\n",
       "      <td>0.941918</td>\n",
       "      <td>0.952439</td>\n",
       "      <td>0.937181</td>\n",
       "      <td>0.046287</td>\n",
       "      <td>3</td>\n",
       "    </tr>\n",
       "    <tr>\n",
       "      <th>12315</th>\n",
       "      <td>0.940930</td>\n",
       "      <td>0.940236</td>\n",
       "      <td>0.936802</td>\n",
       "      <td>0.934266</td>\n",
       "      <td>0.029196</td>\n",
       "      <td>3</td>\n",
       "    </tr>\n",
       "  </tbody>\n",
       "</table>\n",
       "<p>12316 rows × 6 columns</p>\n",
       "</div>"
      ],
      "text/plain": [
       "           High       Low      Open     Close    Volume  Company Name\n",
       "0      0.005439  0.008407  0.009323  0.006761  0.007373             0\n",
       "1      0.006428  0.008823  0.009035  0.008142  0.022758             0\n",
       "2      0.006741  0.007899  0.010285  0.006249  0.018034             0\n",
       "3      0.004928  0.006934  0.008937  0.004951  0.016560             0\n",
       "4      0.003461  0.005277  0.007473  0.003562  0.028195             0\n",
       "...         ...       ...       ...       ...       ...           ...\n",
       "12311  0.957812  0.943303  0.952211  0.938066  0.062044             3\n",
       "12312  0.953404  0.950658  0.942666  0.955719  0.036853             3\n",
       "12313  0.954351  0.955111  0.955012  0.956931  0.035698             3\n",
       "12314  0.951771  0.941918  0.952439  0.937181  0.046287             3\n",
       "12315  0.940930  0.940236  0.936802  0.934266  0.029196             3\n",
       "\n",
       "[12316 rows x 6 columns]"
      ]
     },
     "execution_count": 10,
     "metadata": {},
     "output_type": "execute_result"
    }
   ],
   "source": [
    "data"
   ]
  },
  {
   "cell_type": "code",
   "execution_count": 11,
   "id": "cae524d1",
   "metadata": {},
   "outputs": [],
   "source": [
    "X = data.drop('Close', axis=1)\n",
    "y = data.Close"
   ]
  },
  {
   "cell_type": "code",
   "execution_count": 12,
   "id": "ea3eaba5",
   "metadata": {},
   "outputs": [
    {
     "name": "stdout",
     "output_type": "stream",
     "text": [
      "(12316, 5)\n",
      "(12316,)\n"
     ]
    }
   ],
   "source": [
    "print(X.shape)\n",
    "print(y.shape)"
   ]
  },
  {
   "cell_type": "code",
   "execution_count": 13,
   "id": "253074c7",
   "metadata": {},
   "outputs": [],
   "source": [
    "X_train, X_test, y_train, y_test = train_test_split(X, y, test_size = 0.25, random_state = 0)"
   ]
  },
  {
   "cell_type": "code",
   "execution_count": 14,
   "id": "cde614ab",
   "metadata": {},
   "outputs": [
    {
     "name": "stdout",
     "output_type": "stream",
     "text": [
      "(9237, 5)\n",
      "(9237,)\n",
      "(3079, 5)\n",
      "(3079,)\n"
     ]
    }
   ],
   "source": [
    "print(X_train.shape)\n",
    "print(y_train.shape)\n",
    "print(X_test.shape)\n",
    "print(y_test.shape)"
   ]
  },
  {
   "cell_type": "code",
   "execution_count": 15,
   "id": "5b9ad964",
   "metadata": {},
   "outputs": [],
   "source": [
    "model = LinearRegression()"
   ]
  },
  {
   "cell_type": "code",
   "execution_count": 16,
   "id": "3a31b9ac",
   "metadata": {},
   "outputs": [
    {
     "data": {
      "text/plain": [
       "LinearRegression()"
      ]
     },
     "execution_count": 16,
     "metadata": {},
     "output_type": "execute_result"
    }
   ],
   "source": [
    "model.fit(X_train,y_train)"
   ]
  },
  {
   "cell_type": "code",
   "execution_count": 17,
   "id": "553ab5e5",
   "metadata": {},
   "outputs": [
    {
     "data": {
      "text/plain": [
       "0.9998527149125346"
      ]
     },
     "execution_count": 17,
     "metadata": {},
     "output_type": "execute_result"
    }
   ],
   "source": [
    "model.score(X_train, y_train)"
   ]
  },
  {
   "cell_type": "code",
   "execution_count": 18,
   "id": "d11b24ac",
   "metadata": {},
   "outputs": [],
   "source": [
    "y_pred = model.predict(X_test)"
   ]
  },
  {
   "cell_type": "code",
   "execution_count": 19,
   "id": "83b0c782",
   "metadata": {},
   "outputs": [
    {
     "data": {
      "text/plain": [
       "0.9998812525193767"
      ]
     },
     "execution_count": 19,
     "metadata": {},
     "output_type": "execute_result"
    }
   ],
   "source": [
    "model.score(X_test, y_test)"
   ]
  },
  {
   "cell_type": "code",
   "execution_count": 20,
   "id": "fd77069e",
   "metadata": {},
   "outputs": [
    {
     "data": {
      "text/plain": [
       "array([ 8.51304667e-01,  6.92522005e-01, -5.50184413e-01, -3.73138837e-03,\n",
       "       -9.03849538e-05])"
      ]
     },
     "execution_count": 20,
     "metadata": {},
     "output_type": "execute_result"
    }
   ],
   "source": [
    "model.coef_"
   ]
  },
  {
   "cell_type": "code",
   "execution_count": 21,
   "id": "5a049436",
   "metadata": {},
   "outputs": [
    {
     "name": "stdout",
     "output_type": "stream",
     "text": [
      "Mean squared error: 0.00\n",
      "Mean Absolute Error: 0.001347\n",
      "Coefficient of determination: 1.00\n"
     ]
    }
   ],
   "source": [
    "print('Mean squared error: %.2f'% mean_squared_error(y_test, y_pred))\n",
    "print('Mean Absolute Error: %2f'% mean_absolute_error(y_test, y_pred))\n",
    "print('Coefficient of determination: %.2f'% r2_score(y_test, y_pred))"
   ]
  },
  {
   "cell_type": "code",
   "execution_count": 22,
   "id": "c6df7429",
   "metadata": {},
   "outputs": [
    {
     "data": {
      "text/plain": [
       "Text(0, 0.5, 'Y Predict')"
      ]
     },
     "execution_count": 22,
     "metadata": {},
     "output_type": "execute_result"
    },
    {
     "data": {
      "image/png": "[encoded data removed]",
      "text/plain": [
       "<Figure size 432x288 with 1 Axes>"
      ]
     },
     "metadata": {
      "needs_background": "light"
     },
     "output_type": "display_data"
    }
   ],
   "source": [
    "plt.scatter(x = y_test, y = y_pred)\n",
    "plt.xlabel('Y Test')\n",
    "plt.ylabel('Y Predict')"
   ]
  },
  {
   "cell_type": "code",
   "execution_count": 23,
   "id": "a2822343",
   "metadata": {},
   "outputs": [],
   "source": [
    "model2 = RandomForestRegressor()"
   ]
  },
  {
   "cell_type": "code",
   "execution_count": 24,
   "id": "c061ce1d",
   "metadata": {},
   "outputs": [
    {
     "data": {
      "text/plain": [
       "RandomForestRegressor()"
      ]
     },
     "execution_count": 24,
     "metadata": {},
     "output_type": "execute_result"
    }
   ],
   "source": [
    "model2.fit(X_train, y_train)"
   ]
  },
  {
   "cell_type": "code",
   "execution_count": 25,
   "id": "f86e6c71",
   "metadata": {},
   "outputs": [
    {
     "data": {
      "text/plain": [
       "0.9998527149125346"
      ]
     },
     "execution_count": 25,
     "metadata": {},
     "output_type": "execute_result"
    }
   ],
   "source": [
    "model.score(X_train, y_train)"
   ]
  },
  {
   "cell_type": "code",
   "execution_count": 26,
   "id": "a46e1080",
   "metadata": {},
   "outputs": [],
   "source": [
    "y_pred = model2.predict(X_test)"
   ]
  },
  {
   "cell_type": "code",
   "execution_count": 27,
   "id": "88bbc363",
   "metadata": {},
   "outputs": [
    {
     "data": {
      "text/plain": [
       "0.9998812525193767"
      ]
     },
     "execution_count": 27,
     "metadata": {},
     "output_type": "execute_result"
    }
   ],
   "source": [
    "model.score(X_test, y_test)"
   ]
  },
  {
   "cell_type": "code",
   "execution_count": 28,
   "id": "0ce29676",
   "metadata": {},
   "outputs": [
    {
     "name": "stdout",
     "output_type": "stream",
     "text": [
      "Mean squared error: 0.00\n",
      "Mean Absolute Error: 0.001639\n",
      "Coefficient of determination: 1.00\n"
     ]
    }
   ],
   "source": [
    "print('Mean squared error: %.2f'% mean_squared_error(y_test, y_pred))\n",
    "print('Mean Absolute Error: %2f'% mean_absolute_error(y_test, y_pred))\n",
    "print('Coefficient of determination: %.2f'% r2_score(y_test, y_pred))"
   ]
  },
  {
   "cell_type": "code",
   "execution_count": 29,
   "id": "416fe9fb",
   "metadata": {},
   "outputs": [
    {
     "data": {
      "text/plain": [
       "Text(0, 0.5, 'Y Predict')"
      ]
     },
     "execution_count": 29,
     "metadata": {},
     "output_type": "execute_result"
    },
    {
     "data": {
      "image/png": "[encoded data removed]",
      "text/plain": [
       "<Figure size 432x288 with 1 Axes>"
      ]
     },
     "metadata": {
      "needs_background": "light"
     },
     "output_type": "display_data"
    }
   ],
   "source": [
    "plt.scatter(x = y_test, y = y_pred)\n",
    "plt.xlabel('Y Test')\n",
    "plt.ylabel('Y Predict')"
   ]
  },
  {
   "cell_type": "code",
   "execution_count": 30,
   "id": "c2389edb",
   "metadata": {},
   "outputs": [],
   "source": [
    "with open('model/model.pickle', 'wb') as file:\n",
    "      pickle.dump(model, file)"
   ]
  }
 ],
 "metadata": {
  "kernelspec": {
   "display_name": "Python 3 (ipykernel)",
   "language": "python",
   "name": "python3"
  },
  "language_info": {
   "codemirror_mode": {
    "name": "ipython",
    "version": 3
   },
   "file_extension": ".py",
   "mimetype": "text/x-python",
   "name": "python",
   "nbconvert_exporter": "python",
   "pygments_lexer": "ipython3",
   "version": "3.9.12"
  }
 },
 "nbformat": 4,
 "nbformat_minor": 5
}
